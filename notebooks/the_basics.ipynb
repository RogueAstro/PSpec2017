{
 "cells": [
  {
   "cell_type": "markdown",
   "metadata": {},
   "source": [
    "The basics of radial velocities\n",
    "---------------\n",
    "\n",
    "We can almost completely characterize the orbits of massive bodies around a star using a set of five orbital parameters for each body. Different parametrization schemes use a different set of five parameters, depending on what kind of optimization is needed, but for this tutorial we will use the one from [Murray & Correia (2010)](https://arxiv.org/abs/1009.1738):\n",
    "\n",
    "* $K$: radial velocity semi-amplitude\n",
    "* $T$: orbital period\n",
    "* $e$: eccentricity of the orbit\n",
    "* $\\omega$: argument of periapse\n",
    "* $t_0$: time of periapse passage\n",
    "\n",
    "These parameters exist for each body orbiting a star.\n",
    "\n",
    "In this notebook, we will play around with the package ``radial`` to simulate radial velocity curves for a star orbited by bodies with different orbital parameters."
   ]
  },
  {
   "cell_type": "code",
   "execution_count": null,
   "metadata": {},
   "outputs": [],
   "source": [
    "from radial import object\n",
    "import astropy.units as u\n",
    "import numpy as np\n",
    "import matplotlib.pyplot as plt\n",
    "%matplotlib inline"
   ]
  },
  {
   "cell_type": "markdown",
   "metadata": {},
   "source": [
    "Let's start with a very familiar object: the Sun.\n",
    "\n",
    "**Note:** if you are too lazy to convert units like me, I recommend using the `astropy.units` module."
   ]
  },
  {
   "cell_type": "code",
   "execution_count": null,
   "metadata": {
    "collapsed": true
   },
   "outputs": [],
   "source": [
    "sun = object.MainStar(mass=1 * u.solMass, name='Sun')"
   ]
  },
  {
   "cell_type": "markdown",
   "metadata": {},
   "source": [
    "Now let's setup a couple of companions for the Sun. How about Earth and Jupiter?\n",
    "\n",
    "Thei radial velocity semi-amplitude is not easily accessible from online databases, but we can compute them using the following equation:\n",
    "\n",
    "$$K = \\frac{m \\sin{I}}{m + M} \\frac{2\\pi}{T} \\frac{\\ a}{\\sqrt{1-e^2}} \\mathrm{,}$$\n",
    "\n",
    "where $m$ is the companion mass, $M$ is the mass of the main star, $I$ is the inclination angle between the reference plane and the axis of the orbit (let's consider $I = \\pi$ in this example) and $a$ is the semi-major axis of the orbit. All these parameters are easily accessible to us."
   ]
  },
  {
   "cell_type": "code",
   "execution_count": null,
   "metadata": {},
   "outputs": [],
   "source": [
    "def compute_k(mass, period, semia, ecc, i=np.pi * u.rad):\n",
    "    return mass / (mass + 1 * u.solMass) * 2 * np.pi / period * semia / (1 - ecc ** 2) ** 0.5\n",
    "\n",
    "# Computing K for the Earth\n",
    "mass_e = 1 * u.earthMass\n",
    "semia_e = 1.00000011 * u.AU\n",
    "period_e = 1 * u.yr\n",
    "ecc_e = 0.01671022\n",
    "k_e = compute_k(mass_e, period_e, semia_e, ecc_e)\n",
    "\n",
    "# Computing K for Jupiter\n",
    "mass_j = 1 * u.jupiterMass\n",
    "semia_j = 5.2026 * u.AU\n",
    "period_j = 11.8618 * u.yr\n",
    "ecc_j = 0.048498\n",
    "k_j = compute_k(mass_j, period_j, semia_j, ecc_j)\n",
    "\n",
    "# Setting up the companions\n",
    "earth = object.Companion(main_star=sun,\n",
    "                         k = k_e,\n",
    "                         period_orb=period_e,\n",
    "                         t_0=2457758.01181 * u.d,    # Time of periastron passage, Julian Date\n",
    "                         omega=114.207 * u.deg,      # Argument of periapsis/perihelion\n",
    "                         ecc=ecc_e)\n",
    "\n",
    "jupiter = object.Companion(main_star=sun,\n",
    "                           k=k_j,\n",
    "                           period_orb=period_j,\n",
    "                           t_0=2455636.95833 * u.d,\n",
    "                           omega=273.867 * u.deg,\n",
    "                           ecc=ecc_j)"
   ]
  },
  {
   "cell_type": "markdown",
   "metadata": {},
   "source": [
    "The next step is to setup the Solar System with the Sun and its planetary companions. We need to state what is the time window that we want to simulate in Julian Dates."
   ]
  },
  {
   "cell_type": "code",
   "execution_count": null,
   "metadata": {},
   "outputs": [],
   "source": [
    "time = np.linspace(2453375, 2457758, 1000) * u.d    # ~12 years\n",
    "\n",
    "# The Solar System\n",
    "sys = object.System(main_star=sun,\n",
    "                    companion=[earth, jupiter],\n",
    "                    time=time)"
   ]
  },
  {
   "cell_type": "markdown",
   "metadata": {},
   "source": [
    "Now to compute the radial velocities of the Sun due to Earth and Jupiter:"
   ]
  },
  {
   "cell_type": "code",
   "execution_count": null,
   "metadata": {},
   "outputs": [],
   "source": [
    "sys.compute_rv()"
   ]
  },
  {
   "cell_type": "markdown",
   "metadata": {},
   "source": [
    "With the radial velocities finally computed, it's time to plot them. Let's take a look at the RVs caused by the Earth on the Sun:"
   ]
  },
  {
   "cell_type": "code",
   "execution_count": null,
   "metadata": {},
   "outputs": [],
   "source": [
    "sys.plot_rv(0, 'RVs due to Earth')\n",
    "plt.show()"
   ]
  },
  {
   "cell_type": "markdown",
   "metadata": {},
   "source": [
    "And the total RVs (including Jupiter) are shown below:"
   ]
  },
  {
   "cell_type": "code",
   "execution_count": null,
   "metadata": {},
   "outputs": [],
   "source": [
    "sys.plot_rv(1, 'RVs due to Jupiter')\n",
    "sys.plot_rv(plot_title='Total RVs')\n",
    "plt.show()"
   ]
  }
 ],
 "metadata": {
  "kernelspec": {
   "display_name": "Python 2",
   "language": "python",
   "name": "python2"
  },
  "language_info": {
   "codemirror_mode": {
    "name": "ipython",
    "version": 2
   },
   "file_extension": ".py",
   "mimetype": "text/x-python",
   "name": "python",
   "nbconvert_exporter": "python",
   "pygments_lexer": "ipython2",
   "version": "2.7.13"
  }
 },
 "nbformat": 4,
 "nbformat_minor": 2
}
