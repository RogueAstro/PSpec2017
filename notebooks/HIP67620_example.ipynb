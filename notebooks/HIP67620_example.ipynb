{
 "cells": [
  {
   "cell_type": "markdown",
   "metadata": {},
   "source": [
    "The orbital parameters of the binary solar twin HIP 67620\n",
    "---------------------\n",
    "\n",
    "`radial` is a simple program designed to do a not very trivial task: simulate radial velocities of a star orbited by a massive object or \"reverse engineer\" radial velocity measurements to estimate the orbital parameters of the system being studied. The formalism behind it is based on https://arxiv.org/abs/1009.1738.\n",
    "\n",
    "Our objective in this notebook is to use radial velocity data of the solar twin HIP 67620 to estimate the projected mass, separation and other orbital parameters of its companion. We start by importing the necessary packages. Notice that we will specifically import the modules `orbit`, `estimate`, and `dataset` from the `radial` package."
   ]
  },
  {
   "cell_type": "code",
   "execution_count": null,
   "metadata": {
    "collapsed": true
   },
   "outputs": [],
   "source": [
    "import numpy as np\n",
    "import matplotlib.pyplot as plt\n",
    "import matplotlib.pylab as pylab\n",
    "import astropy.units as u\n",
    "from radial import estimate, dataset\n",
    "%matplotlib inline"
   ]
  },
  {
   "cell_type": "markdown",
   "metadata": {},
   "source": [
    "We then extract the data from the text files located in the `tests` folder. They will be stored in `RVDataSet` objects, which are defined in the `dataset` module."
   ]
  },
  {
   "cell_type": "code",
   "execution_count": null,
   "metadata": {
    "collapsed": true
   },
   "outputs": [],
   "source": [
    "harps = dataset.RVDataSet(file='../data/HIP67620_HARPS.dat', # File name\n",
    "                          t_offset=-2.45E6,                 # Time offset (units of days)\n",
    "                          rv_offset='subtract_mean',        # RV offset\n",
    "                          instrument_name='HARPS',\n",
    "                          target_name='HIP 67620', \n",
    "                          skiprows=1,   # Number of rows to skip in the data file\n",
    "                          t_col=5,      # Column corresponding to time in the data file\n",
    "                          rv_col=6,     # Column corresponding to RVs\n",
    "                          rv_unc_col=7  # Column corresponding to RV ucnertainties\n",
    "                         )\n",
    "aat = dataset.RVDataSet(file='../data/HIP67620_AAT.dat', t_offset=-2.45E6, rv_offset='subtract_mean', \n",
    "                          instrument_name='AATPS', target_name='HIP 67620', delimiter=',')\n",
    "w16 = dataset.RVDataSet(file='../data/HIP67620_WF16.dat', t_offset=-5E4, rv_offset='subtract_mean', \n",
    "                         instrument_name='W16', target_name='HIP 67620', t_col=1, \n",
    "                         rv_col=3, rv_unc_col=4)"
   ]
  },
  {
   "cell_type": "markdown",
   "metadata": {},
   "source": [
    "We can visualize the radial velocities by running the function `plot()` of a given `dataset` object. For instance:"
   ]
  },
  {
   "cell_type": "code",
   "execution_count": null,
   "metadata": {},
   "outputs": [],
   "source": [
    "w16.plot()"
   ]
  },
  {
   "cell_type": "markdown",
   "metadata": {},
   "source": [
    "Now that we have the data, how do we estimate the orbital parameters of the system? We use the methods and functions inside the `estimate` module. But first, we need to provide an initial guess for the orbital parameters. They are:\n",
    "\n",
    "* `k`: radial velocity semi-amplitude $K$ (in m/s)\n",
    "* `period`: orbital period $T$ (in days)\n",
    "* `t0`: time of periastron passage $t_0$ (in days)\n",
    "* `omega`: argument of periapse $\\omega$ (in radians)\n",
    "* `ecc`: eccentricity of the orbit $e$\n",
    "* `gamma_X`: RV offset $\\gamma$ of the dataset number $X$ (in m/s)\n",
    "\n",
    "A first guess is usually an educated guess based on either a periodogram and/or simple visual inspection of the data."
   ]
  },
  {
   "cell_type": "code",
   "execution_count": null,
   "metadata": {
    "collapsed": true
   },
   "outputs": [],
   "source": [
    "# guess is a dictionary, which is a special type of \"list\" in python\n",
    "# Instead of being indexed by a number, the items in a dictionary\n",
    "# are indexed by a key (which is a string)\n",
    "guess = {'k': 6000,\n",
    "         'period': 4000,\n",
    "         't0': 5000,\n",
    "         'omega': 180 * np.pi / 180,\n",
    "         'ecc': 0.3,\n",
    "         'gamma_0': 0,\n",
    "         'gamma_1': 0,\n",
    "         'gamma_2': 0}"
   ]
  },
  {
   "cell_type": "markdown",
   "metadata": {},
   "source": [
    "Now we need to instantiate a `FullOrbit` object with the datasets and our guess, as well as the parametrization option we want to use. Then, we plot it."
   ]
  },
  {
   "cell_type": "code",
   "execution_count": null,
   "metadata": {},
   "outputs": [],
   "source": [
    "estim = estimate.FullOrbit(datasets=[harps, aat, w16], \n",
    "                           guess=guess,\n",
    "                           parametrization='mc10')\n",
    "plot = estim.plot_rvs(plot_guess=True, fold=False, legend_loc=2)\n",
    "plt.show()"
   ]
  },
  {
   "cell_type": "markdown",
   "metadata": {},
   "source": [
    "We estimate the orbital parameters of the system using the Nelder-Mead optimization algorithm implemented in the `lmfit` package. This will compute the best solution or, in other words, the one that minimizes the residuals of the fit.\n",
    "\n",
    "It is probable that the first solutions are not good, and that is fine. Just run the estimation a couple of times until you get the satisfactory result."
   ]
  },
  {
   "cell_type": "code",
   "execution_count": null,
   "metadata": {},
   "outputs": [],
   "source": [
    "result = estim.lmfit_orbit(update_guess=True)"
   ]
  },
  {
   "cell_type": "markdown",
   "metadata": {},
   "source": [
    "Now let's plot the solution we obtained."
   ]
  },
  {
   "cell_type": "code",
   "execution_count": null,
   "metadata": {},
   "outputs": [],
   "source": [
    "pylab.rcParams['font.size'] = 12\n",
    "fig, gs = estim.plot_rvs(plot_guess=True, fold=False, legend_loc=4)"
   ]
  },
  {
   "cell_type": "markdown",
   "metadata": {},
   "source": [
    "If the result looks good, that is great: we have the best solution of the orbit. However, we still need to estimate uncertainties for the orbital parameters. We do that using `emcee`. This is a Markov-Chain Monte Carlo (MCMC) simulation, in which we simulate a bunch of sets of orbital parameters that could still fit the data given the uncertainties of the observations, but are a little bit off from the best solution. They will make up the uncertainties of the fit. \n",
    "\n",
    "This simulation starts from the best solution and do random walks across the parameter space. We will provide the number of *walkers* (`nwalkers`) for the MCMC simulation, as well as the number of *steps* (`nsteps`) that each one will take. \n",
    "\n",
    "How do we know the number of walkers and steps to use? As a general rule of thumb, it is recommended to use at least 2 times the number of parameters for the number of walkers, and as many steps as it takes for the simulation to converge.\n",
    "\n",
    "**Note**: We can use multiprocessing in `emcee` to make the calculations somewhat faster. For that, we need to provide the number of processing threads (in the parameter `nthreads`) of your computer. Most laptops have 2 or 4 threads."
   ]
  },
  {
   "cell_type": "code",
   "execution_count": null,
   "metadata": {},
   "outputs": [],
   "source": [
    "estim.emcee_orbit(nwalkers=16, nsteps=10000, nthreads=12)"
   ]
  },
  {
   "cell_type": "markdown",
   "metadata": {},
   "source": [
    "With that done, we plot the walkers to see how the simulation went."
   ]
  },
  {
   "cell_type": "code",
   "execution_count": null,
   "metadata": {},
   "outputs": [],
   "source": [
    "estim.plot_emcee_sampler()"
   ]
  },
  {
   "cell_type": "markdown",
   "metadata": {},
   "source": [
    "Let's cut the beginning of the simulation (the first 500 steps) because they correspond to the *burn-in* phase."
   ]
  },
  {
   "cell_type": "code",
   "execution_count": null,
   "metadata": {},
   "outputs": [],
   "source": [
    "estim.make_chains(500)"
   ]
  },
  {
   "cell_type": "markdown",
   "metadata": {},
   "source": [
    "Now we use a corner plot to analyze the posterior distributions of the parameters, as well as the correlations between them."
   ]
  },
  {
   "cell_type": "code",
   "execution_count": null,
   "metadata": {},
   "outputs": [],
   "source": [
    "fig = estim.plot_corner()\n",
    "plt.show()"
   ]
  },
  {
   "cell_type": "markdown",
   "metadata": {},
   "source": [
    "And that should be pretty much it. Finally, we compute the orbital parameters in a human-readable fashion."
   ]
  },
  {
   "cell_type": "code",
   "execution_count": null,
   "metadata": {},
   "outputs": [],
   "source": [
    "estim.print_emcee_result(main_star_mass=0.954, # in M_sol units\n",
    "                         mass_sigma=0.006)"
   ]
  }
 ],
 "metadata": {
  "anaconda-cloud": {},
  "kernelspec": {
   "display_name": "Python 2",
   "language": "python",
   "name": "python2"
  },
  "language_info": {
   "codemirror_mode": {
    "name": "ipython",
    "version": 2
   },
   "file_extension": ".py",
   "mimetype": "text/x-python",
   "name": "python",
   "nbconvert_exporter": "python",
   "pygments_lexer": "ipython2",
   "version": "2.7.13"
  }
 },
 "nbformat": 4,
 "nbformat_minor": 1
}
