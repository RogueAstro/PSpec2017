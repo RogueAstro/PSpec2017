{
 "cells": [
  {
   "cell_type": "markdown",
   "metadata": {},
   "source": [
    "HD 38529 example\n",
    "------------------\n",
    "\n",
    "The idea in this notebook is to fit exoplanet signals to the radial velocities of the star HD 38529. This system was observed several times and in various different instruments, which means we have plenty of data to work with. There are two confirmed exoplanets orbiting HD 38529.\n",
    "\n",
    "The code `radvel` is somewhat non-Pythonic in the fact that you run it from the command line instead of using scripts -- which means that, in practice, you don't need this Jupyter notebook to run it; so you could simply run these commands in the terminal if you prefer.\n",
    "\n",
    "In the following line, we use the cell magic command `%%bash` to run `radvel` as if we were on the terminal. The syntax of running `radvel` is quite simple: we use the subcommand `fit` to perform the RV fitting and the option `-s` to use a setup file, which is included in the `codes` folder.\n",
    "\n",
    "This command will compute the **maximum likelihood** of the orbital parameters and instrumental parameters, and then produce some outputs in this \"terminal\" session, as well as a subfolder of our star in the `notebooks` folder."
   ]
  },
  {
   "cell_type": "code",
   "execution_count": null,
   "metadata": {
    "scrolled": true
   },
   "outputs": [],
   "source": [
    "%%bash\n",
    "radvel fit -s ../codes/HD38529.py"
   ]
  },
  {
   "cell_type": "markdown",
   "metadata": {},
   "source": [
    "This output folder contains a `.pkl` file, which is a `pickle`-able binary file that is not meant to be human-readable. But we can make a plot of the best-fit solution computed by `radvel`."
   ]
  },
  {
   "cell_type": "code",
   "execution_count": null,
   "metadata": {},
   "outputs": [],
   "source": [
    "%%bash\n",
    "radvel plot -t rv -s ../codes/HD38529.py"
   ]
  },
  {
   "cell_type": "markdown",
   "metadata": {},
   "source": [
    "Again, because `radvel` works in this non-Pythonic way, the plot does not appear in the notebook. But you can check it inside the output folder. You will notice that some datasets seem to have large uncertainties; that is probably because of an overestimated jitter term.\n",
    "\n",
    "Now that we have the **maximum likelihood**, we need to compute the uncertainties of the fit. This is done by running a Markov Chain Monte Carlo (MCMC) simulation.\n",
    "\n",
    "***Warning***: *Running a MCMC simulation requires a lot of computation time, so be prepared to wait for several minutes if you start it. Also, your computer will probably heat up, so I don't recommend running MCMC with it in your lap.*"
   ]
  },
  {
   "cell_type": "code",
   "execution_count": null,
   "metadata": {
    "collapsed": true
   },
   "outputs": [],
   "source": [
    "%%bash\n",
    "radvel mcmc -s ../codes/HD38529.py"
   ]
  },
  {
   "cell_type": "markdown",
   "metadata": {},
   "source": [
    "With the uncertainties computed from the MCMC, we can plot this results along with the *corner* (posterior distributions of the parameters) and the *trends* (``emcee`` chains)."
   ]
  },
  {
   "cell_type": "code",
   "execution_count": null,
   "metadata": {
    "collapsed": true
   },
   "outputs": [],
   "source": [
    "%%bash\n",
    "radvel plot -t rv corner trend -s ../codes/HD38529.py"
   ]
  },
  {
   "cell_type": "markdown",
   "metadata": {},
   "source": [
    "And finally, `radvel` can also output a PDF file containing all the results of our computations."
   ]
  },
  {
   "cell_type": "code",
   "execution_count": null,
   "metadata": {
    "collapsed": true
   },
   "outputs": [],
   "source": [
    "%%bash\n",
    "radvel report -s ../codes/HD38529.py"
   ]
  }
 ],
 "metadata": {
  "kernelspec": {
   "display_name": "Python 2",
   "language": "python",
   "name": "python2"
  },
  "language_info": {
   "codemirror_mode": {
    "name": "ipython",
    "version": 2
   },
   "file_extension": ".py",
   "mimetype": "text/x-python",
   "name": "python",
   "nbconvert_exporter": "python",
   "pygments_lexer": "ipython2",
   "version": "2.7.13"
  }
 },
 "nbformat": 4,
 "nbformat_minor": 2
}
