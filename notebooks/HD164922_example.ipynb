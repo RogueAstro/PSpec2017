{
 "cells": [
  {
   "cell_type": "code",
   "execution_count": 1,
   "metadata": {
    "collapsed": true
   },
   "outputs": [],
   "source": [
    "import numpy as np"
   ]
  },
  {
   "cell_type": "code",
   "execution_count": 4,
   "metadata": {},
   "outputs": [
    {
     "name": "stdout",
     "output_type": "stream",
     "text": [
      "3.14159265359\n"
     ]
    }
   ],
   "source": [
    "print np.pi"
   ]
  },
  {
   "cell_type": "code",
   "execution_count": 5,
   "metadata": {},
   "outputs": [
    {
     "name": "stdout",
     "output_type": "stream",
     "text": [
      "[NbConvertApp] Converting notebook HD164922_example.ipynb to script\n",
      "[NbConvertApp] Writing 126 bytes to HD164922_example.py\n"
     ]
    }
   ],
   "source": [
    "!jupyter nbconvert --to script HD164922_example.ipynb"
   ]
  },
  {
   "cell_type": "code",
   "execution_count": 8,
   "metadata": {},
   "outputs": [
    {
     "name": "stdout",
     "output_type": "stream",
     "text": [
      "../codes/HD164922.py\n",
      "Performing max-likelihood fitting for HD164922\n",
      "Initial loglikelihood = -1184.115772\n",
      "Performing maximum likelihood fit...\n",
      "Final loglikelihood = -992.365447\n",
      "Best-fit parameters:\n",
      "parameter                     value      vary\n",
      "per1                        1197.72       True\n",
      "per2                        75.7191       True\n",
      "tc1                         6766.15       True\n",
      "tc2                         6281.41       True\n",
      "dvdt                              0      False\n",
      "curv                              0      False\n",
      "gamma_k                    0.269085       True\n",
      "gamma_j                    0.128905       True\n",
      "gamma_a                     1.07858       True\n",
      "jit_k                       2.47437       True\n",
      "jit_j                       2.88791       True\n",
      "jit_a                      0.973112       True\n",
      "secosw1                   -0.232255       True\n",
      "sesinw1                    0.148829       True\n",
      "logk1                       1.98137       True\n",
      "secosw2                   -0.418096       True\n",
      "sesinw2                    0.499586       True\n",
      "logk2                      0.855896       True\n",
      "tp1                         6933.27           \n",
      "e1                        0.0760922           \n",
      "w1                          2.57171           \n",
      "k1                          7.25265           \n",
      "tp2                         6284.63           \n",
      "e2                          0.42439           \n",
      "w2                          2.26763           \n",
      "k2                          2.35348           \n",
      "\n",
      "Priors\n",
      "------\n",
      "e1 constrained to be < 0.99\n",
      "e2 constrained to be < 0.99\n",
      "Gaussian prior on tc1, mu=2456779.0, sigma=300.0\n",
      "Bounded prior on jit_k, min=0.0, max=10.0\n",
      "Bounded prior on jit_j, min=0.0, max=10.0\n",
      "Bounded prior on jit_a, min=0.0, max=10.0\n",
      "\n"
     ]
    }
   ],
   "source": [
    "%%bash\n",
    "radvel fit -s ../codes/HD164922.py"
   ]
  }
 ],
 "metadata": {
  "kernelspec": {
   "display_name": "Python 2",
   "language": "python",
   "name": "python2"
  },
  "language_info": {
   "codemirror_mode": {
    "name": "ipython",
    "version": 2
   },
   "file_extension": ".py",
   "mimetype": "text/x-python",
   "name": "python",
   "nbconvert_exporter": "python",
   "pygments_lexer": "ipython2",
   "version": "2.7.13"
  }
 },
 "nbformat": 4,
 "nbformat_minor": 2
}
